{
 "cells": [
  {
   "cell_type": "code",
   "execution_count": 1,
   "metadata": {},
   "outputs": [],
   "source": [
    "%load_ext autoreload\n",
    "%autoreload 2"
   ]
  },
  {
   "cell_type": "code",
   "execution_count": 2,
   "metadata": {},
   "outputs": [],
   "source": [
    "from traceutils.as2org.as2org import AS2Org\n",
    "import bdrmapit_parser.graph.construct as gc\n",
    "import algorithm.algorithm as alg\n",
    "import algorithm.finish as fin\n",
    "import algorithm.last_hop as lh\n",
    "from bdrmapit_parser.algorithm.bdrmapit import Bdrmapit\n",
    "from bdrmapit_parser.algorithm.updates_dict import Updates\n",
    "import pickle\n",
    "from traceutils.bgp.bgp import BGP\n",
    "from traceutils.radix.ip2as import IP2AS, create_table\n",
    "from time import time\n",
    "# import verify_bdrmapit.att2018.attparse2018 as att\n",
    "# import verify_bdrmapit.i2.parseri2 as i2\n",
    "# import verify_bdrmapit.reannz.reannzparse as reannz"
   ]
  },
  {
   "cell_type": "code",
   "execution_count": 3,
   "metadata": {},
   "outputs": [],
   "source": [
    "ip2as = create_table('../ip2as/test.csv')"
   ]
  },
  {
   "cell_type": "code",
   "execution_count": 4,
   "metadata": {},
   "outputs": [],
   "source": [
    "as2org = AS2Org('../retrieve-external/orgs/20181001.as-org2info.txt.gz')"
   ]
  },
  {
   "cell_type": "code",
   "execution_count": 5,
   "metadata": {},
   "outputs": [],
   "source": [
    "bgp = BGP('../retrieve-external/rels/20180801.as-rel.txt.bz2', '../retrieve-external/rels/20180801.ppdc-ases.txt.bz2')"
   ]
  },
  {
   "cell_type": "code",
   "execution_count": 6,
   "metadata": {},
   "outputs": [
    {
     "data": {
      "text/plain": [
       "6.790326118469238"
      ]
     },
     "execution_count": 6,
     "metadata": {},
     "output_type": "execute_result"
    }
   ],
   "source": [
    "s = time()\n",
    "with open('results2.pickle', 'rb') as f:\n",
    "    results = pickle.load(f)\n",
    "e = time()\n",
    "e - s"
   ]
  },
  {
   "cell_type": "code",
   "execution_count": 7,
   "metadata": {},
   "outputs": [
    {
     "data": {
      "text/plain": [
       "28.44019603729248"
      ]
     },
     "execution_count": 7,
     "metadata": {},
     "output_type": "execute_result"
    }
   ],
   "source": [
    "s = time()\n",
    "graph = gc.construct_graph(results['addrs'], results['nexthop'], results['multi'], results['dps'], ip2as, as2org)\n",
    "e = time()\n",
    "e - s"
   ]
  },
  {
   "cell_type": "code",
   "execution_count": 8,
   "metadata": {},
   "outputs": [
    {
     "data": {
      "text/plain": [
       "514897"
      ]
     },
     "execution_count": 8,
     "metadata": {},
     "output_type": "execute_result"
    }
   ],
   "source": [
    "routers_succ = [router for router in graph.routers.values() if router.succ]\n",
    "len(routers_succ)"
   ]
  },
  {
   "cell_type": "code",
   "execution_count": 9,
   "metadata": {},
   "outputs": [
    {
     "data": {
      "text/plain": [
       "893155"
      ]
     },
     "execution_count": 9,
     "metadata": {},
     "output_type": "execute_result"
    }
   ],
   "source": [
    "routers_nosucc = [router for router in graph.routers.values() if not router.succ]\n",
    "len(routers_nosucc)"
   ]
  },
  {
   "cell_type": "code",
   "execution_count": 15,
   "metadata": {},
   "outputs": [
    {
     "data": {
      "text/plain": [
       "1319575"
      ]
     },
     "execution_count": 15,
     "metadata": {},
     "output_type": "execute_result"
    }
   ],
   "source": [
    "interfaces_pred = [interface for interface in graph.interfaces.values() if interface.pred]\n",
    "len(interfaces_pred)"
   ]
  },
  {
   "cell_type": "code",
   "execution_count": 10,
   "metadata": {},
   "outputs": [],
   "source": [
    "bdrmapit = Bdrmapit(graph, as2org, bgp)"
   ]
  },
  {
   "cell_type": "code",
   "execution_count": 11,
   "metadata": {},
   "outputs": [
    {
     "name": "stderr",
     "output_type": "stream",
     "text": [
      "\u001b[KModifying interface dests 100.00% (1,408,052 / 1,408,052). \n",
      "\u001b[KSetting destinations 100.00% (1,408,052 / 1,408,052). \n"
     ]
    }
   ],
   "source": [
    "fin.set_dests(bdrmapit)"
   ]
  },
  {
   "cell_type": "code",
   "execution_count": 12,
   "metadata": {},
   "outputs": [
    {
     "name": "stderr",
     "output_type": "stream",
     "text": [
      "\u001b[KLast Hops 100.00% (893,155 / 893,155). Is 710 Ds 892,445\n"
     ]
    }
   ],
   "source": [
    "lh.annotate_lasthops(bdrmapit, routers_nosucc)"
   ]
  },
  {
   "cell_type": "code",
   "execution_count": 13,
   "metadata": {},
   "outputs": [
    {
     "name": "stderr",
     "output_type": "stream",
     "text": [
      "\u001b[KAnnotating routers 100.00% (514,897 / 514,897). \n"
     ]
    },
    {
     "data": {
      "text/plain": [
       "{}"
      ]
     },
     "execution_count": 13,
     "metadata": {},
     "output_type": "execute_result"
    }
   ],
   "source": [
    "r1 = Updates()\n",
    "i1 = Updates()\n",
    "alg.annotate_routers(bdrmapit, r1, i1, routers_succ)"
   ]
  },
  {
   "cell_type": "code",
   "execution_count": 14,
   "metadata": {},
   "outputs": [],
   "source": [
    "r1.advance()"
   ]
  },
  {
   "cell_type": "code",
   "execution_count": 16,
   "metadata": {},
   "outputs": [
    {
     "name": "stderr",
     "output_type": "stream",
     "text": [
      "\u001b[KAdding links 100.00% (1,319,575 / 1,319,575). \n"
     ]
    },
    {
     "data": {
      "text/plain": [
       "{}"
      ]
     },
     "execution_count": 16,
     "metadata": {},
     "output_type": "execute_result"
    }
   ],
   "source": [
    "alg.annotate_interfaces(bdrmapit, r1, i1, interfaces_pred)"
   ]
  },
  {
   "cell_type": "code",
   "execution_count": 17,
   "metadata": {},
   "outputs": [],
   "source": [
    "i1.advance()"
   ]
  },
  {
   "cell_type": "code",
   "execution_count": 102,
   "metadata": {},
   "outputs": [],
   "source": [
    "addr = '128.163.164.169'"
   ]
  },
  {
   "cell_type": "code",
   "execution_count": 103,
   "metadata": {},
   "outputs": [],
   "source": [
    "i = graph.interfaces[addr]\n",
    "r = graph.routers[addr]"
   ]
  },
  {
   "cell_type": "code",
   "execution_count": 104,
   "metadata": {},
   "outputs": [
    {
     "data": {
      "text/plain": [
       "23162"
      ]
     },
     "execution_count": 104,
     "metadata": {},
     "output_type": "execute_result"
    }
   ],
   "source": [
    "i.asn"
   ]
  },
  {
   "cell_type": "code",
   "execution_count": 105,
   "metadata": {},
   "outputs": [
    {
     "data": {
      "text/plain": [
       "<ASN=23162, Org=UNIVER-150-ARIN, UType=50>"
      ]
     },
     "execution_count": 105,
     "metadata": {},
     "output_type": "execute_result"
    }
   ],
   "source": [
    "do = r1.get(r, bdrmapit.lhupdates.get(r))\n",
    "do"
   ]
  },
  {
   "cell_type": "code",
   "execution_count": 106,
   "metadata": {},
   "outputs": [
    {
     "data": {
      "text/plain": [
       "'University of Kentucky'"
      ]
     },
     "execution_count": 106,
     "metadata": {},
     "output_type": "execute_result"
    }
   ],
   "source": [
    "as2org.name(do.asn)"
   ]
  },
  {
   "cell_type": "code",
   "execution_count": 107,
   "metadata": {},
   "outputs": [
    {
     "data": {
      "text/plain": [
       "<ASN=10437, Org=UKCS-ARIN, UType=2>"
      ]
     },
     "execution_count": 107,
     "metadata": {},
     "output_type": "execute_result"
    }
   ],
   "source": [
    "doi = i1[i]\n",
    "doi"
   ]
  },
  {
   "cell_type": "code",
   "execution_count": 108,
   "metadata": {},
   "outputs": [
    {
     "data": {
      "text/plain": [
       "'University of Kentucky, Communication Services'"
      ]
     },
     "execution_count": 108,
     "metadata": {},
     "output_type": "execute_result"
    }
   ],
   "source": [
    "as2org.name(doi.asn)"
   ]
  },
  {
   "cell_type": "code",
   "execution_count": 109,
   "metadata": {},
   "outputs": [
    {
     "data": {
      "text/plain": [
       "'33632, 22944, 3714, 32071, 14760, 30700, 13327, 1657, 23162, 33629'"
      ]
     },
     "execution_count": 109,
     "metadata": {},
     "output_type": "execute_result"
    }
   ],
   "source": [
    "', '.join(map(str, results['dps'][addr]))"
   ]
  },
  {
   "cell_type": "code",
   "execution_count": 110,
   "metadata": {},
   "outputs": [
    {
     "name": "stdout",
     "output_type": "stream",
     "text": [
      "Edges=10, NH=True\n",
      "Succ=128.163.164.185, ASN=23162, Origins={23162}\n",
      "\tASN=23162, RASN=18, IASN=-1 VRF=False\n",
      "Heuristic: 23162\n",
      "Succ=128.163.164.150, ASN=23162, Origins={23162}\n",
      "\tASN=23162, RASN=23162, IASN=-1 VRF=False\n",
      "Heuristic: 23162\n",
      "Succ=128.163.164.162, ASN=23162, Origins={23162}\n",
      "\tASN=23162, RASN=18, IASN=-1 VRF=False\n",
      "Heuristic: 23162\n",
      "Succ=128.163.164.153, ASN=23162, Origins={23162}\n",
      "\tASN=23162, RASN=18, IASN=-1 VRF=False\n",
      "Heuristic: 23162\n",
      "Succ=128.163.164.137, ASN=23162, Origins={23162}\n",
      "\tASN=23162, RASN=18, IASN=-1 VRF=False\n",
      "Heuristic: 23162\n",
      "Succ=128.163.164.146, ASN=23162, Origins={23162}\n",
      "\tASN=23162, RASN=18, IASN=-1 VRF=False\n",
      "Heuristic: 23162\n",
      "Succ=128.163.21.158, ASN=23162, Origins={23162}\n",
      "\tASN=23162, RASN=18, IASN=-1 VRF=False\n",
      "Heuristic: 23162\n",
      "Succ=199.120.154.81, ASN=3714, Origins={23162}\n",
      "\tASN=3714, RASN=18, IASN=-1 VRF=False\n",
      "\tThird party: Router=199.120.154.81, RASN=18\n",
      "Heuristic: 3714\n",
      "Succ=128.163.164.133, ASN=23162, Origins={23162}\n",
      "\tASN=23162, RASN=18, IASN=-1 VRF=False\n",
      "Heuristic: 23162\n",
      "Succ=128.163.164.141, ASN=23162, Origins={23162}\n",
      "\tASN=23162, RASN=18, IASN=-1 VRF=False\n",
      "Heuristic: 23162\n",
      "Succs: Counter({23162: 9, 3714: 1})\n",
      "Same: {23162: ['128.163.164.185', '128.163.164.150', '128.163.164.162', '128.163.164.153', '128.163.164.137', '128.163.164.146', '128.163.21.158', '128.163.164.133', '128.163.164.141']}\n",
      "Prefixes: {'128.163.164', '128.163.21'}\n",
      "IASNS: Counter({23162: 1})\n",
      "Votes: Counter({23162: 10, 3714: 1})\n",
      "IASN in Succs: [23162]\n",
      "AllOrigins={23162}, Remaining={3714}\n",
      "Vote Rels: [23162]\n"
     ]
    }
   ],
   "source": [
    "with alg.Debug():\n",
    "    alg.annotate_router(bdrmapit, r, Updates(), Updates())"
   ]
  },
  {
   "cell_type": "code",
   "execution_count": 111,
   "metadata": {},
   "outputs": [
    {
     "name": "stdout",
     "output_type": "stream",
     "text": [
      "VRF: False\n",
      "Router=162.252.70.91, RASN=11537\n",
      "Router=162.252.70.89, RASN=10437\n",
      "Votes: Counter({11537: 1, 10437: 1})\n",
      "MaxNum: [11537, 10437]\n",
      "Rels: [10437]\n",
      "Sorted Rels: [10437]\n"
     ]
    }
   ],
   "source": [
    "with alg.Debug():\n",
    "    alg.annotate_interface(bdrmapit, i, r1)"
   ]
  },
  {
   "cell_type": "code",
   "execution_count": 37,
   "metadata": {},
   "outputs": [
    {
     "data": {
      "text/plain": [
       "1"
      ]
     },
     "execution_count": 37,
     "metadata": {},
     "output_type": "execute_result"
    }
   ],
   "source": [
    "bgp.reltype(11537, 7497)"
   ]
  },
  {
   "cell_type": "code",
   "execution_count": null,
   "metadata": {},
   "outputs": [],
   "source": []
  }
 ],
 "metadata": {
  "kernelspec": {
   "display_name": "Python 3",
   "language": "python",
   "name": "python3"
  },
  "language_info": {
   "codemirror_mode": {
    "name": "ipython",
    "version": 3
   },
   "file_extension": ".py",
   "mimetype": "text/x-python",
   "name": "python",
   "nbconvert_exporter": "python",
   "pygments_lexer": "ipython3",
   "version": "3.7.2"
  }
 },
 "nbformat": 4,
 "nbformat_minor": 2
}
